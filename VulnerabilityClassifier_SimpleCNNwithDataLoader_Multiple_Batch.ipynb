{
  "nbformat": 4,
  "nbformat_minor": 0,
  "metadata": {
    "colab": {
      "name": "VulnerabilityClassifier_SimpleCNNwithDataLoader_Multiple_Batch.ipynb",
      "version": "0.3.2",
      "provenance": [],
      "collapsed_sections": [],
      "include_colab_link": true
    },
    "kernelspec": {
      "name": "python3",
      "display_name": "Python 3"
    },
    "accelerator": "GPU"
  },
  "cells": [
    {
      "cell_type": "markdown",
      "metadata": {
        "id": "view-in-github",
        "colab_type": "text"
      },
      "source": [
        "<a href=\"https://colab.research.google.com/github/JayJay95/JavaByteCodeGenerator/blob/master/VulnerabilityClassifier_SimpleCNNwithDataLoader_Multiple_Batch.ipynb\" target=\"_parent\"><img src=\"https://colab.research.google.com/assets/colab-badge.svg\" alt=\"Open In Colab\"/></a>"
      ]
    },
    {
      "cell_type": "code",
      "metadata": {
        "id": "wbjUdmjC9gs5",
        "colab_type": "code",
        "outputId": "3a6cc252-2a64-478a-a217-8ac67bbcda0a",
        "colab": {
          "base_uri": "https://localhost:8080/",
          "height": 34
        }
      },
      "source": [
        "from google.colab import drive\n",
        "drive.mount('/content/drive')"
      ],
      "execution_count": 17,
      "outputs": [
        {
          "output_type": "stream",
          "text": [
            "Drive already mounted at /content/drive; to attempt to forcibly remount, call drive.mount(\"/content/drive\", force_remount=True).\n"
          ],
          "name": "stdout"
        }
      ]
    },
    {
      "cell_type": "code",
      "metadata": {
        "id": "uWxCvr1Z9kBw",
        "colab_type": "code",
        "outputId": "41e08580-175f-4c50-90f1-f31611d5fd7c",
        "colab": {
          "base_uri": "https://localhost:8080/",
          "height": 34
        }
      },
      "source": [
        "%cd /content/drive/My\\ Drive/After4thYear/Belfast/MSc\\ Cybersec/Research\\ Project/Colab Notebooks"
      ],
      "execution_count": 18,
      "outputs": [
        {
          "output_type": "stream",
          "text": [
            "/content/drive/My Drive/After4thYear/Belfast/MSc Cybersec/Research Project/Colab Notebooks\n"
          ],
          "name": "stdout"
        }
      ]
    },
    {
      "cell_type": "code",
      "metadata": {
        "id": "KVM7weaq9nxm",
        "colab_type": "code",
        "colab": {}
      },
      "source": [
        "import os\n",
        "import re\n",
        "import fnmatch\n",
        "import argparse\n",
        "import math\n",
        "import torch\n",
        "import torch.nn as nn\n",
        "import torch.nn.functional as F\n",
        "import torch.utils.data\n",
        "from torch.autograd import Variable\n",
        "import torch.optim as optim\n",
        "import numpy as np\n",
        "import test_cases\n",
        "from copy import deepcopy\n",
        "import pdb\n",
        "import time\n",
        "import matplotlib.pyplot as plt\n"
      ],
      "execution_count": 0,
      "outputs": []
    },
    {
      "cell_type": "code",
      "metadata": {
        "id": "eh_f2Dk49qMy",
        "colab_type": "code",
        "colab": {}
      },
      "source": [
        "clean_opseq_folder = '/content/drive/My Drive/After4thYear/Belfast/MSc Cybersec/Research Project/Colab Notebooks/Opseq/Clean_Opseq'\n",
        "vuln_opseq_folder = '/content/drive/My Drive/After4thYear/Belfast/MSc Cybersec/Research Project/Colab Notebooks/Opseq/Vuln_Opseq'"
      ],
      "execution_count": 0,
      "outputs": []
    },
    {
      "cell_type": "code",
      "metadata": {
        "id": "9mNGPASm9qq2",
        "colab_type": "code",
        "outputId": "5e65ee50-eafe-416f-d223-82c8df757508",
        "colab": {
          "base_uri": "https://localhost:8080/",
          "height": 34
        }
      },
      "source": [
        "parser = argparse.ArgumentParser(description='Vulnerability Classifier')\n",
        "# parser.add_argument('--max_opcode_seq_len', action='store', type=int, help='use different versions of network', default=8192)\n",
        "# parser.add_argument('--min_opcode_seq_len', action='store', type=int, help='use different versions of network', default=32)\n",
        "parser.add_argument('--lr', action='store', type=float, help='use different versions of network', default=1e-3)\n",
        "parser.add_argument('--epochs', action='store', type=int, help='use different versions of network', default=10)\n",
        "opt = parser.parse_args('')\n",
        "print(opt)"
      ],
      "execution_count": 21,
      "outputs": [
        {
          "output_type": "stream",
          "text": [
            "Namespace(epochs=10, lr=0.001)\n"
          ],
          "name": "stdout"
        }
      ]
    },
    {
      "cell_type": "code",
      "metadata": {
        "id": "3mcKD8wi9svS",
        "colab_type": "code",
        "colab": {}
      },
      "source": [
        "device = torch.device(\"cuda:0\" if torch.cuda.is_available() else \"cpu\")"
      ],
      "execution_count": 0,
      "outputs": []
    },
    {
      "cell_type": "code",
      "metadata": {
        "id": "RsLneDR69xty",
        "colab_type": "code",
        "colab": {}
      },
      "source": [
        "def find_files(files, dirs=[], extensions=[]): # recursively find files in directories\n",
        "    new_dirs = []\n",
        "    for d in dirs:\n",
        "        try:\n",
        "            new_dirs += [ os.path.join(d, f) for f in os.listdir(d)] # check in all directories except testcasesupport \n",
        "        except OSError:\n",
        "            if os.path.splitext(d)[1] in extensions:\n",
        "                files.append(d)\n",
        "\n",
        "    if new_dirs:\n",
        "        find_files(files, new_dirs, extensions)\n",
        "    else:\n",
        "        return  \n",
        "\n",
        "def read_file(filename):\n",
        "    opcode_count = 0\n",
        "    line_list = []\n",
        "    with open(filename, mode='rt', encoding='utf8') as f:\n",
        "        content = f.readlines()        \n",
        "    for line in content:\n",
        "        opcode_seq = []     \n",
        "        for c in range(0, len(line) - 1, 2):\n",
        "            #print(line[c:(c+2)],int(line[c:(c+2)], 16))\n",
        "            opcode_seq.append(int(line[c:(c+2)], 16) + 1) # add one here so that the zero'th embedding is reserved for 'blank' i.e. no instruction whatsoever not even no-op\t\t\t\n",
        "            opcode_count += 1\n",
        "            # to save training time we only read \n",
        "            # the first opt.max_opcode_seq_len opcodes of each file\n",
        "            \n",
        "            # if opcode_count >= opt.max_opcode_seq_len:\n",
        "            #     return opcode_seq\n",
        "        line_list.append(opcode_seq)\n",
        "    return line_list\n",
        "\n",
        "def read_dataset():\n",
        "    vuln = []\n",
        "    clean = []\n",
        "    clean_opseq_files = []\n",
        "    vuln_opseq_files = []\n",
        "    # min_file_len = opt.min_opcode_seq_len #ignore opcode seq files shorter than this\n",
        "    find_files(clean_opseq_files, dirs=[clean_opseq_folder], extensions=['.clean'])\n",
        "    for clean_file_pathname in clean_opseq_files:\n",
        "        tmp = read_file(clean_file_pathname)\n",
        "        # if len(tmp) >= min_file_len:\n",
        "        clean.append(tmp)\n",
        "    \n",
        "    find_files(vuln_opseq_files, dirs=[vuln_opseq_folder], extensions=['.vuln'])\n",
        "    for vuln_file_pathname in vuln_opseq_files:\n",
        "        tmp = read_file(vuln_file_pathname)\n",
        "        # if len(tmp) >= min_file_len:\n",
        "        vuln.append(tmp)\n",
        "    \n",
        "    # flatten vuln and clean lists\n",
        "    new_vuln = []\n",
        "    for x in vuln:\n",
        "        for y in x:\n",
        "            new_vuln.append(y)\n",
        "    \n",
        "    new_clean = []\n",
        "    for x in clean:\n",
        "        for y in x:\n",
        "            new_clean.append(y)\n",
        "    return new_vuln, new_clean"
      ],
      "execution_count": 0,
      "outputs": []
    },
    {
      "cell_type": "code",
      "metadata": {
        "id": "MTQPHjW19ycq",
        "colab_type": "code",
        "colab": {}
      },
      "source": [
        "def split_dataset(vuln, clean):\n",
        "    #split the dataset into train, val, test sets\n",
        "    #return the concatenated dataset and\n",
        "    #indicies pointing to the train,val,test samples\n",
        "\n",
        "    vuln_label = 0\n",
        "    clean_label = 1\n",
        "    dataset = deepcopy(clean) + deepcopy(vuln) # concatenate original clean and original vuln samples\n",
        "    trial_dataset = clean + vuln\n",
        "    \n",
        "    #pad with zeroes to make all sequences a standard length of 1000\n",
        "    for list in trial_dataset:\n",
        "        if len(list) < 1000:\n",
        "            list.extend([0] * (1000- len(list)))\n",
        "    \n",
        "    final_vuln_list = []\n",
        "    for vuln_list in vuln:\n",
        "        inner_vuln_list = []\n",
        "        inner_vuln_list.append(vuln_list)\n",
        "        inner_vuln_list.append(vuln_label)\n",
        "        final_vuln_list.append(inner_vuln_list)\n",
        "             \n",
        "    final_clean_list = []\n",
        "    for clean_list in clean:\n",
        "        inner_clean_list = []\n",
        "        inner_clean_list.append(clean_list)\n",
        "        inner_clean_list.append(clean_label)\n",
        "        final_clean_list.append(inner_clean_list)\n",
        "    \n",
        "    # split vuln samples randomly\n",
        "    first_vuln_split = int(0.8 * len(final_vuln_list))\n",
        "    second_vuln_split = int(0.1 * len(final_vuln_list))\n",
        "    third_vuln_split = int(len(final_vuln_list) - (first_vuln_split + second_vuln_split))\n",
        "    vuln_training_dataset, vuln_validation_dataset, vuln_testing_dataset = torch.utils.data.random_split(final_vuln_list, [first_vuln_split, second_vuln_split, third_vuln_split])\n",
        "\n",
        "    # split clean samples randomly\n",
        "    first_clean_split = int(0.8 * len(final_clean_list))\n",
        "    second_clean_split = int(0.1*len(final_clean_list))\n",
        "    third_clean_split = int(len(final_clean_list) - (first_clean_split + second_clean_split))\n",
        "    clean_training_dataset, clean_validation_dataset, clean_testing_dataset = torch.utils.data.random_split(final_clean_list, [first_clean_split, second_clean_split, third_clean_split])\n",
        "\n",
        "    # merge both vuln & clean training sets\n",
        "    training_set = clean_training_dataset + vuln_training_dataset\n",
        "\n",
        "    # get indices and labels from training set\n",
        "    train_inds=[]\n",
        "    train_labels=[]\n",
        "    training_counter = 0\n",
        "    \n",
        "    for list in training_set:\n",
        "        train_inds.append(training_counter)\n",
        "        training_counter+=1\n",
        "        train_labels.append(list[1])\n",
        "        \n",
        "    # merge both vuln & clean validation sets\n",
        "    validation_set = clean_validation_dataset + vuln_validation_dataset\n",
        "\n",
        "    # get indices and labels from validation set\n",
        "    val_inds = []\n",
        "    val_labels = []\n",
        "    training_set_length = len(training_set)\n",
        "    for list in validation_set:\n",
        "        val_inds.append(training_set_length)\n",
        "        training_set_length += 1\n",
        "        val_labels.append(list[1])\n",
        "\n",
        "    # merge both vuln & clean testing sets\n",
        "    testing_set = clean_testing_dataset + vuln_testing_dataset\n",
        "\n",
        "    # get indices and labels from testing set\n",
        "    test_inds = []\n",
        "    test_labels = []\n",
        "    validation_set_length = len(training_set) + len(validation_set)\n",
        "    for list in testing_set:\n",
        "        test_inds.append(validation_set_length)\n",
        "        validation_set_length += 1\n",
        "        test_labels.append(list[1])\n",
        "    \n",
        "    return trial_dataset, training_set, validation_set, testing_set\n"
      ],
      "execution_count": 0,
      "outputs": []
    },
    {
      "cell_type": "code",
      "metadata": {
        "id": "yRKTIctC-Czz",
        "colab_type": "code",
        "colab": {}
      },
      "source": [
        "def evaluate_network_performance(predictions, ground_truth):\n",
        "    # given an array with the predicted values and the correct values\n",
        "    # calculate the precision, recall and f-score\n",
        "    cm = get_confusion_matrix(predictions, ground_truth)\n",
        "    TP = cm[0][0]\n",
        "    FP = cm[0][1]\n",
        "    FN = cm[1][0]\n",
        "    TN = cm[1][1]\n",
        "\n",
        "    precision = TP/(TP+FP)\n",
        "    recall = TP/(TP+FN)\n",
        "    classification_accuracy = (TP+TN) / (TP + TN + FP + FN)\n",
        "    f_score = 2 * ((precision*recall)/(precision + recall))\n",
        "\n",
        "    return precision, recall, f_score, classification_accuracy"
      ],
      "execution_count": 0,
      "outputs": []
    },
    {
      "cell_type": "code",
      "metadata": {
        "id": "3gCm2uNC9_My",
        "colab_type": "code",
        "colab": {}
      },
      "source": [
        "class VulnerabilityDetectorNetwork(nn.Module):\n",
        "    def __init__(self):\n",
        "        super(VulnerabilityDetectorNetwork, self).__init__()\n",
        "\n",
        "        self.num_of_embeddings = 205\n",
        "        self.embedding_dimension = 8\n",
        "        self.channels_in = 1\n",
        "        self.channels_out = 64\n",
        "        self.hidden_nodes = 16\n",
        "        self.kernel_height_dimension = 8\n",
        "        self.kernel_width_dimension = 8\n",
        "        self.padding_height_dimension = 0\n",
        "        self.padding_width_dimension = 0\n",
        "        self.features_out = 2\n",
        "\n",
        "        self.emb1 = nn.Embedding(self.num_of_embeddings, self.embedding_dimension)\n",
        "        self.conv1 = nn.Conv2d(self.channels_in, self.channels_out, kernel_size=(self.kernel_height_dimension, self.kernel_width_dimension),\n",
        "            padding=(self.padding_height_dimension, self.padding_width_dimension))\n",
        "        self.lin1 = nn.Linear(self.channels_out, self.hidden_nodes)\n",
        "        self.lin2 = nn.Linear(self.hidden_nodes, self.features_out)\n",
        "        self.drop_out = nn.Dropout(0.5)\n",
        "\n",
        "    def forward(self, x):\n",
        "#         print(x.shape)\n",
        "        x = self.emb1(x)\n",
        "#         print(x.shape)        \n",
        "        x = x.unsqueeze(1)\n",
        "#         x = x.unsqueeze(0)\n",
        "#         print(x.shape)\n",
        "        x = self.conv1(x)\n",
        "#         print(x.shape)\n",
        "        x = F.relu(x)\n",
        "#         print(x.shape)        \n",
        "        x = torch.max(x,2)[0]\n",
        "#         print(x.shape)\n",
        "        x = self.drop_out(x)\n",
        "#         print(x.shape)\n",
        "        x = x.squeeze(2)\n",
        "#         print(x.shape)\n",
        "        x = self.lin1(x)\n",
        "#         print(x.shape)\n",
        "        x = self.lin2(x)\n",
        "#         print(x.shape)\n",
        "        return x"
      ],
      "execution_count": 0,
      "outputs": []
    },
    {
      "cell_type": "code",
      "metadata": {
        "id": "ko5Q7lMZ-FAh",
        "colab_type": "code",
        "colab": {}
      },
      "source": [
        "def get_confusion_matrix(preds, truth):\n",
        "    flat_truth = torch.stack(truth).flatten()\n",
        "    flat_preds = torch.stack(preds).flatten()\n",
        "    K = len(np.unique(flat_truth)) # Number of classes \n",
        "    result = np.zeros((K, K))\n",
        "    for i in range(len(flat_truth)):\n",
        "        result[flat_preds[i]][flat_truth[i]] += 1\n",
        "    confusion_matrix = result\n",
        "    return confusion_matrix"
      ],
      "execution_count": 0,
      "outputs": []
    },
    {
      "cell_type": "code",
      "metadata": {
        "id": "jUveFs2W-HHW",
        "colab_type": "code",
        "colab": {}
      },
      "source": [
        "def test_network(net, tvtLoader):\n",
        "    \n",
        "    criterion = nn.CrossEntropyLoss()\n",
        "\n",
        "    test_loss = 0\n",
        "    predictions = []\n",
        "    labels = []\n",
        "\n",
        "    with torch.no_grad():\n",
        "#         for i in range(len(inds)):\n",
        "        for i, (opsqs, lbls) in enumerate(tvtLoader):\n",
        "            net.eval()\n",
        "            opsqs = torch.stack(opsqs).flatten()\n",
        "            opsqs_tensor = opsqs.type(torch.LongTensor)\n",
        "            output = net(opsqs_tensor.view(-1, 1000))\n",
        "            val,idx = torch.max(output.data,1) # max pool - max over the rows\n",
        "#             predictions.append(idx.item())\n",
        "            predictions.append(idx)\n",
        "            labels.append(lbls)\n",
        "\n",
        "            test_loss = criterion(output, lbls).item()\n",
        "\n",
        "        precision, recall, f_score, classification_accuracy = evaluate_network_performance(predictions, labels)\n",
        "\n",
        "    return precision, recall, f_score, classification_accuracy\n"
      ],
      "execution_count": 0,
      "outputs": []
    },
    {
      "cell_type": "code",
      "metadata": {
        "id": "Y5R2cVAu-WDu",
        "colab_type": "code",
        "colab": {}
      },
      "source": [
        "def train_network(net, trainLoader, valLoader):\n",
        "    epochs_list = []\n",
        "    train_acc_list = []\n",
        "    val_acc_list = []\n",
        "    \n",
        "    optimizer = optim.Adam(net.parameters(), lr=opt.lr)\n",
        "    criterion = nn.CrossEntropyLoss()\n",
        "\n",
        "    num_training_epochs = opt.epochs\n",
        "\n",
        "    for e in range(num_training_epochs):\n",
        "        running_loss = 0\n",
        "\n",
        "        for i, (opseqs, labels) in enumerate(trainLoader):\n",
        "            net.train() # set network into training mode\n",
        "            optimizer.zero_grad() #reset the optimizer before every loop\n",
        "            \n",
        "            opseqs = torch.stack(opseqs).flatten()\n",
        "            opseqs_tensor = opseqs.type(torch.LongTensor)       \n",
        "            net_output = net(opseqs_tensor.view(-1, 1000)) # forward pass of current training sample through the network\n",
        "#             net_output = net(opseqs_tensor.unsqueeze(0))\n",
        "            loss = criterion(net_output, labels) # how close network is to correct answer\n",
        "            running_loss += loss.item()\n",
        "            \n",
        "            loss.backward() # back propagation step for whole net\n",
        "            optimizer.step() # call optimizer to update network's parameters\n",
        "\n",
        "        epoch_loss = running_loss/len(trainLoader)\n",
        "        epochs_list.append(e)\n",
        "        \n",
        "        print('iteration ', e, ' loss ', epoch_loss)\n",
        "        print('          prec rec  f1   acc')\n",
        "         \n",
        "        precision, recall, f_score, classification_accuracy = test_network(net, trainLoader)\n",
        "        train_acc_list.append(classification_accuracy)\n",
        "        print('train set',\"{0:.2f}\".format(precision),\"{0:.2f}\".format(recall),\"{0:.2f}\".format(f_score),\"{0:.2f}\".format(classification_accuracy))\n",
        "        \n",
        "        precision, recall, f_score, classification_accuracy = test_network(net, valLoader)\n",
        "        val_acc_list.append(classification_accuracy)\n",
        "        print('val set  ',\"{0:.2f}\".format(precision),\"{0:.2f}\".format(recall),\"{0:.2f}\".format(f_score),\"{0:.2f}\".format(classification_accuracy))\n",
        "\n",
        "        print()\n",
        "\n",
        "    return net, epochs_list, train_acc_list, val_acc_list\n"
      ],
      "execution_count": 0,
      "outputs": []
    },
    {
      "cell_type": "code",
      "metadata": {
        "id": "ynVneEWU-Y9u",
        "colab_type": "code",
        "colab": {}
      },
      "source": [
        "def createLoaders(train_set, val_set, test_set):\n",
        "    trainLoader = torch.utils.data.DataLoader(train_set, batch_size = 1, shuffle = True, drop_last = True)\n",
        "    valLoader = torch.utils.data.DataLoader(val_set, batch_size = 1, shuffle = True, drop_last = True)\n",
        "    testLoader = torch.utils.data.DataLoader(test_set, batch_size = 1, shuffle = False, drop_last = True)\n",
        "    return trainLoader, valLoader, testLoader\n"
      ],
      "execution_count": 0,
      "outputs": []
    },
    {
      "cell_type": "code",
      "metadata": {
        "id": "tDgzhl33pG0D",
        "colab_type": "code",
        "colab": {}
      },
      "source": [
        "def drawEpochsAccuracyGraph(x_epochs, y_train, y_val):\n",
        "    plt.plot(x_epochs, y_train, label = \"Train\")\n",
        "    plt.plot(x_epochs, y_val, label = \"Val\")\n",
        "\n",
        "    # naming the axes\n",
        "    plt.xlabel('Epochs')\n",
        "    plt.ylabel('Accuracy (%)')\n",
        "    plt.legend()\n",
        "\n",
        "    # title\n",
        "    plt.title('Epochs vs Accuracy')\n",
        "    plt.show()\n"
      ],
      "execution_count": 0,
      "outputs": []
    },
    {
      "cell_type": "code",
      "metadata": {
        "id": "KoRlwT8G-qtZ",
        "colab_type": "code",
        "colab": {}
      },
      "source": [
        "def main():\n",
        "    # create_clean_opseq_files() # should only run the first time this code is ran\n",
        "    # print('Created clean opseq')\n",
        "    # create_vuln_opseq_files() # should only run the first time this code is ran\n",
        "    # print('Created vuln opseq')\n",
        "    vuln, clean = read_dataset()\n",
        "\n",
        "    dataset, train_set, val_set, test_set = split_dataset(vuln, clean)   \n",
        "    trainLoader, valLoader, testLoader = createLoaders(train_set, val_set, test_set)\n",
        "    net = VulnerabilityDetectorNetwork()\n",
        "    # net.to(device)\n",
        "    print(net)\n",
        "    print('started training network')\n",
        "    before = time.time()\n",
        "    \n",
        "    net, epochs_list, train_acc_list, val_acc_list = train_network(net, trainLoader, valLoader)\n",
        "    print('started testing network')\n",
        "    precision, recall, f_score, classification_accuracy = test_network(net, testLoader)\n",
        "    print('test set',\"{0:.2f}\".format(precision),\"{0:.2f}\".format(recall),\"{0:.2f}\".format(f_score),\"{0:.2f}\".format(classification_accuracy))\n",
        "    print()\n",
        "    eval_time = time.time() - before\n",
        "    print (\"Time to run: \", eval_time)\n",
        "    drawEpochsAccuracyGraph(epochs_list, train_acc_list, val_acc_list)"
      ],
      "execution_count": 0,
      "outputs": []
    },
    {
      "cell_type": "code",
      "metadata": {
        "id": "uWh492Xi-uYS",
        "colab_type": "code",
        "outputId": "676d04f6-a197-42cb-c479-9528d1d79db1",
        "colab": {
          "base_uri": "https://localhost:8080/",
          "height": 833
        }
      },
      "source": [
        "# if test_case_result_eval_function and test_case_result_split_dataset and test_case_result_network:\n",
        "# if test_case_result_eval_function and test_case_result_split_dataset:\n",
        "main()\n",
        "# else:\n",
        "#     print('one or more test cases failed - quitting')\n",
        "#     quit()"
      ],
      "execution_count": 0,
      "outputs": [
        {
          "output_type": "stream",
          "text": [
            "VulnerabilityDetectorNetwork(\n",
            "  (emb1): Embedding(205, 8)\n",
            "  (conv1): Conv2d(1, 64, kernel_size=(8, 8), stride=(1, 1))\n",
            "  (lin1): Linear(in_features=64, out_features=16, bias=True)\n",
            "  (lin2): Linear(in_features=16, out_features=2, bias=True)\n",
            "  (drop_out): Dropout(p=0.5)\n",
            ")\n",
            "started training network\n",
            "iteration  0  loss  0.2922856290805421\n",
            "          prec rec  f1   acc\n",
            "train set 0.94 0.95 0.95 0.95\n",
            "val set   0.94 0.95 0.94 0.94\n",
            "\n",
            "iteration  1  loss  0.26164950786707303\n",
            "          prec rec  f1   acc\n",
            "train set 0.94 0.96 0.95 0.95\n",
            "val set   0.94 0.95 0.94 0.94\n",
            "\n",
            "iteration  2  loss  0.2544391538808071\n",
            "          prec rec  f1   acc\n",
            "train set 0.91 0.99 0.95 0.95\n",
            "val set   0.91 0.99 0.95 0.95\n",
            "\n",
            "iteration  3  loss  0.2535202070618783\n",
            "          prec rec  f1   acc\n",
            "train set 0.93 0.97 0.95 0.95\n",
            "val set   0.93 0.96 0.94 0.94\n",
            "\n",
            "iteration  4  loss  0.25292912746696516\n",
            "          prec rec  f1   acc\n",
            "train set 0.92 0.98 0.95 0.95\n",
            "val set   0.92 0.98 0.95 0.95\n",
            "\n",
            "iteration  5  loss  0.25226471913396586\n",
            "          prec rec  f1   acc\n",
            "train set 0.91 0.99 0.95 0.95\n",
            "val set   0.91 0.99 0.95 0.95\n",
            "\n",
            "iteration  6  loss  0.24921025984772485\n",
            "          prec rec  f1   acc\n",
            "train set 0.93 0.97 0.95 0.95\n",
            "val set   0.93 0.97 0.95 0.94\n",
            "\n",
            "iteration  7  loss  0.24994386960317022\n",
            "          prec rec  f1   acc\n",
            "train set 0.93 0.97 0.95 0.95\n",
            "val set   0.93 0.96 0.94 0.94\n",
            "\n"
          ],
          "name": "stdout"
        }
      ]
    }
  ]
}